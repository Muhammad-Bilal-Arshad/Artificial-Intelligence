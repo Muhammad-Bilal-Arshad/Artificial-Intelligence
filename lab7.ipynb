{
 "cells": [
  {
   "attachments": {},
   "cell_type": "markdown",
   "metadata": {},
   "source": [
    "LAB 7"
   ]
  },
  {
   "cell_type": "code",
   "execution_count": 4,
   "metadata": {},
   "outputs": [
    {
     "ename": "NameError",
     "evalue": "name 'NP' is not defined",
     "output_type": "error",
     "traceback": [
      "\u001b[1;31m---------------------------------------------------------------------------\u001b[0m",
      "\u001b[1;31mNameError\u001b[0m                                 Traceback (most recent call last)",
      "Cell \u001b[1;32mIn[4], line 69\u001b[0m\n\u001b[0;32m     67\u001b[0m start \u001b[39m=\u001b[39m (\u001b[39m0\u001b[39m, \u001b[39m0\u001b[39m)\n\u001b[0;32m     68\u001b[0m goal \u001b[39m=\u001b[39m (\u001b[39m9\u001b[39m, \u001b[39m9\u001b[39m)\n\u001b[1;32m---> 69\u001b[0m path \u001b[39m=\u001b[39m astar(NP\u001b[39m.\u001b[39marray(maze), start, goal)\n\u001b[0;32m     70\u001b[0m \u001b[39mprint\u001b[39m(path)\n",
      "\u001b[1;31mNameError\u001b[0m: name 'NP' is not defined"
     ]
    }
   ],
   "source": [
    "import heapq\n",
    "import numpy as np;\n",
    "\n",
    "# define the heuristic function for A* algorithm\n",
    "def heuristic(a, b):\n",
    "    (x1, y1) = a\n",
    "    (x2, y2) = b\n",
    "    return abs(x1 - x2) + abs(y1 - y2)\n",
    "\n",
    "# define the A* algorithm\n",
    "def astar(array, start, goal):\n",
    "    neighbors = [(0,1),(0,-1),(1,0),(-1,0)]\n",
    "    close_set = set()\n",
    "    came_from = {}\n",
    "    gscore = {start:0}\n",
    "    fscore = {start:heuristic(start, goal)}\n",
    "    oheap = []\n",
    "\n",
    "    heapq.heappush(oheap, (fscore[start], start))\n",
    "    \n",
    "    while oheap:\n",
    "        current = heapq.heappop(oheap)[1]\n",
    "        if current == goal:\n",
    "            data = []\n",
    "            while current in came_from:\n",
    "                data.append(current)\n",
    "                current = came_from[current]\n",
    "            return data[::-1]\n",
    "        \n",
    "        close_set.add(current)\n",
    "        for i, j in neighbors:\n",
    "            neighbor = current[0] + i, current[1] + j\n",
    "            tentative_g_score = gscore[current] + heuristic(current, neighbor)\n",
    "            if 0 <= neighbor[0] < array.shape[0]:\n",
    "                if 0 <= neighbor[1] < array.shape[1]:                \n",
    "                    if array[neighbor[0]][neighbor[1]] == 0:\n",
    "                        continue\n",
    "                else:\n",
    "                    continue\n",
    "            else:\n",
    "                continue\n",
    "\n",
    "            if neighbor in close_set and tentative_g_score >= gscore.get(neighbor, 0):\n",
    "                continue\n",
    "                \n",
    "            if tentative_g_score < gscore.get(neighbor, 0) or neighbor not in [i[1]for i in oheap]:\n",
    "                came_from[neighbor] = current\n",
    "                gscore[neighbor] = tentative_g_score\n",
    "                fscore[neighbor] = tentative_g_score + heuristic(neighbor, goal)\n",
    "                heapq.heappush(oheap, (fscore[neighbor], neighbor))\n",
    "    \n",
    "    return None\n",
    "\n",
    "# define the maze\n",
    "maze = [[1, 1, 1, 1, 0, 1, 1, 1, 1, 1],\n",
    "        [1, 1, 0, 1, 1, 1, 0, 0, 1, 1],\n",
    "        [1, 1, 1, 0, 1, 1, 0, 0, 1, 0],\n",
    "        [1, 0, 1, 1, 0, 1, 1, 1, 0, 0],\n",
    "        [1, 0, 0, 1, 1, 1, 1, 1, 1, 1],\n",
    "        [1, 0, 1, 1, 0, 0, 0, 1, 0, 0],\n",
    "        [0, 1, 1, 0, 0, 0, 1, 1, 1, 1],\n",
    "        [1, 0, 0, 0, 1, 1, 1, 1, 1, 1],\n",
    "        [1, 1, 1, 0, 1, 1, 1, 1, 1, 1],\n",
    "        [0, 1, 0, 0, 0, 1, 1, 1, 0, 1]]\n",
    "\n",
    "# define the start and goal positions\n",
    "start = (0, 0)\n",
    "goal = (9, 9)\n",
    "path = astar(np.array(maze), start, goal)\n",
    "print(path)\n"
   ]
  }
 ],
 "metadata": {
  "kernelspec": {
   "display_name": "venv",
   "language": "python",
   "name": "python3"
  },
  "language_info": {
   "codemirror_mode": {
    "name": "ipython",
    "version": 3
   },
   "file_extension": ".py",
   "mimetype": "text/x-python",
   "name": "python",
   "nbconvert_exporter": "python",
   "pygments_lexer": "ipython3",
   "version": "3.10.11"
  },
  "orig_nbformat": 4
 },
 "nbformat": 4,
 "nbformat_minor": 2
}
