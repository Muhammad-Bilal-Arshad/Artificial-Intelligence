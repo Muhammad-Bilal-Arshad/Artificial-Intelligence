{
 "cells": [
  {
   "attachments": {},
   "cell_type": "markdown",
   "metadata": {},
   "source": [
    "DEPTH FIRST SEARCH ALGORITHM"
   ]
  },
  {
   "attachments": {},
   "cell_type": "markdown",
   "metadata": {},
   "source": [
    "TASK1: ARAD TO BUCHAREST"
   ]
  },
  {
   "cell_type": "code",
   "execution_count": 17,
   "metadata": {},
   "outputs": [
    {
     "name": "stdout",
     "output_type": "stream",
     "text": [
      "Current Node:  Arad\n",
      "Current Node:  Sibui\n",
      "Current Node:  Rimnicu Vileea\n",
      "Current Node:  Pitesti\n",
      "['Arad', 'Sibui', 'Rimnicu Vileea', 'Pitesti', 'Bucharest']\n"
     ]
    }
   ],
   "source": [
    "class Node:\n",
    "    def __init__(self, state, parent, actions, cost): \n",
    "        self.state = state \n",
    "        self.parent = parent \n",
    "        self.actions = actions \n",
    "        self.cost = cost \n",
    "def DFS():\n",
    "    initialstate = 'Arad' \n",
    "    goalState = 'Bucharest' \n",
    "    graph = {\n",
    "      'Oradea': Node('Oradea', None, ['Zerind', 'Sibui'], None),\n",
    "      'Zerind': Node('Zerind', None, ['Arad', 'Oradea'], None),\n",
    "      'Arad': Node('Arad', None, ['Zerind', 'Timisoara', 'Sibui'], None),\n",
    "      'Timisoara': Node('Timisoara', None, ['Arad', 'Lugoj'], None),\n",
    "      'Sibui': Node('Sibui', None, ['Fagaras', 'Oradea', 'Arad', 'Rimnicu Vileea'], None),\n",
    "      'Lugoj': Node('Lugoj', None, ['Timisoara', 'Mehadia'], None),\n",
    "      'Mehadia': Node('Mehadia', None, ['Drobeta', 'Lugoj'], None),\n",
    "      'Rimnicu Vileea': Node('Rimnicu Vileea', None, ['Sibui', 'Craiova', 'Pitesti'], None),\n",
    "      'Craiova': Node('Craiova', None, ['Drobeta', 'Pitesti'], None),\n",
    "      'Drobeta': Node('Drobeta', None, ['Craiova', 'Mehadia'], None),\n",
    "      'Fagaras': Node('Fagaras', None, ['Sibui', 'Bucharest'], None),\n",
    "      'Pitesti': Node('Fagaras', None, ['Rimnicu Vileea', 'Bucharest', 'Craiova'], None),\n",
    "      'Bucharest': Node('Bucharest', None, ['Fagaras', 'Pitesti', 'Glurgiu', 'Urzieeni'], None),\n",
    "      'Glurgiu': Node('Glurgiu', None, ['Bucharest'], None),\n",
    "      'Urzieeni': Node('Urzieeni', None, ['Bucharest', 'Hirsova', 'Vaslui'], None),\n",
    "      'Hirsova': Node('Hirsova', None, ['Urzieeni', 'Eforie'], None),\n",
    "      'Eforie': Node('Eforie', None, ['Hirsova'], None),\n",
    "      'Vaslui': Node('Vaslui', None, ['Urzieeni', 'Lasi'], None),\n",
    "      'Lasi': Node('Lasi', None, ['Vaslui', 'Neamt'], None),\n",
    "      'Neamt': Node('Neamt', None, ['Lasi'], None)\n",
    "    }\n",
    "    frontier = [initialstate]\n",
    "    explored = []\n",
    "    while len(frontier) != 0:\n",
    "        currentNode = frontier.pop(len(frontier)-1) \n",
    "        print(\"Current Node: \", currentNode)\n",
    "        explored.append(currentNode)\n",
    "        currentChildren = 0\n",
    "        for child in graph[currentNode].actions: \n",
    "            if child not in frontier and child not in explored: \n",
    "                graph[child].parent = currentNode\n",
    "                if graph[child].state == goalState:\n",
    "                    return actionSequence(graph,goalState)\n",
    "                currentChildren += 1\n",
    "                frontier.append(child)\n",
    "        if currentChildren == 0:\n",
    "            del explored[len(explored)-1]\n",
    "\n",
    "\n",
    "def actionSequence(graph,goalState):\n",
    "    solution = [goalState]\n",
    "    currentParent = graph[goalState].parent\n",
    "    while currentParent != None:\n",
    "      solution.append(currentParent)\n",
    "      currentParent = graph[currentParent].parent\n",
    "    \n",
    "    solution.reverse()\n",
    "    return solution\n",
    "\n",
    "solution = DFS()\n",
    "print(solution)\n",
    "\n"
   ]
  },
  {
   "attachments": {},
   "cell_type": "markdown",
   "metadata": {},
   "source": [
    "TASK2"
   ]
  },
  {
   "cell_type": "code",
   "execution_count": 26,
   "metadata": {},
   "outputs": [
    {
     "name": "stdout",
     "output_type": "stream",
     "text": [
      "set()\n"
     ]
    }
   ],
   "source": [
    "def find_words(board, dictionary):\n",
    "    m, n = len(board), len(board[0])\n",
    "    visited = set()\n",
    "    words = set()\n",
    "    \n",
    "    def dfs(i, j, word):\n",
    "        if word in dictionary:\n",
    "            words.add(word)\n",
    "        \n",
    "        if not word.startswith(\"\".join(board[i][j])):\n",
    "            return\n",
    "        \n",
    "        visited.add((i, j))\n",
    "        \n",
    "        for di, dj in ((-1, 0), (1, 0), (0, -1), (0, 1), (-1, -1), (-1, 1), (1, -1), (1, 1)):\n",
    "            ni, nj = i + di, j + dj\n",
    "            if 0 <= ni < m and 0 <= nj < n and (ni, nj) not in visited:\n",
    "                dfs(ni, nj, word + board[ni][nj])\n",
    "        \n",
    "        visited.remove((i, j))\n",
    "    \n",
    "    for i in range(m):\n",
    "        for j in range(n):\n",
    "            dfs(i, j, board[i][j])\n",
    "    \n",
    "    return words.intersection(dictionary)\n",
    "\n",
    "board = [['M', 'S', 'E', 'F'], ['R', 'A', 'T', 'D'], ['L', 'O', 'N', 'E'], ['K', 'A', 'F', 'B']]\n",
    "dictionary = {\"START\", \"NOTE\", \"SAND\", \"STONE\", \"STONED\"}\n",
    "print(find_words(board, dictionary))\n",
    "\n"
   ]
  }
 ],
 "metadata": {
  "kernelspec": {
   "display_name": "venv",
   "language": "python",
   "name": "python3"
  },
  "language_info": {
   "codemirror_mode": {
    "name": "ipython",
    "version": 3
   },
   "file_extension": ".py",
   "mimetype": "text/x-python",
   "name": "python",
   "nbconvert_exporter": "python",
   "pygments_lexer": "ipython3",
   "version": "3.10.7"
  },
  "orig_nbformat": 4
 },
 "nbformat": 4,
 "nbformat_minor": 2
}
