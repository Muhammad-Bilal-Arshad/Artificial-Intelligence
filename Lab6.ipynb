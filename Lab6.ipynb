{
 "cells": [
  {
   "attachments": {},
   "cell_type": "markdown",
   "metadata": {},
   "source": [
    "BUCHAREST"
   ]
  },
  {
   "cell_type": "code",
   "execution_count": 1,
   "metadata": {},
   "outputs": [
    {
     "name": "stdout",
     "output_type": "stream",
     "text": [
      "['Arad', 'Sibiu', 'Rimnicu Vilcea', 'Pitesti', 'Bucharest']\n"
     ]
    }
   ],
   "source": [
    "import heapq\n",
    "\n",
    "def uniform_cost_search(start_node, goal_node, graph):\n",
    "    frontier = [(0, start_node, [])]  \n",
    "    explored = set()  #\n",
    "\n",
    "    while frontier:\n",
    "        \n",
    "        cost, current_node, path = heapq.heappop(frontier)\n",
    "\n",
    "      \n",
    "        if current_node == goal_node:\n",
    "            return path + [current_node]\n",
    "\n",
    "\n",
    "        explored.add(current_node)\n",
    "\n",
    "  \n",
    "        for neighbor, neighbor_cost in graph[current_node].items():\n",
    "            if neighbor not in explored:\n",
    "       \n",
    "                new_path = path + [current_node]\n",
    "                new_cost = cost + neighbor_cost\n",
    "                heapq.heappush(frontier, (new_cost, neighbor, new_path))\n",
    "\n",
    "\n",
    "    return None\n",
    "graph = {\n",
    "    'Arad': {'Zerind': 75, 'Sibiu': 140, 'Timisoara': 118},\n",
    "    'Zerind': {'Oradea': 71},\n",
    "    'Oradea': {'Sibiu': 151},\n",
    "    'Sibiu': {'Fagaras': 99, 'Rimnicu Vilcea': 80},\n",
    "    'Timisoara': {'Lugoj': 111},\n",
    "    'Lugoj': {'Mehadia': 70},\n",
    "    'Mehadia': {'Dobreta': 75},\n",
    "    'Dobreta': {'Craiova': 120},\n",
    "    'Rimnicu Vilcea': {'Craiova': 146, 'Pitesti': 97},\n",
    "    'Craiova': {'Pitesti': 138, 'Rimnicu Vilcea': 146, 'Dobreta': 120},\n",
    "    'Pitesti': {'Bucharest': 101, 'Rimnicu Vilcea': 97, 'Craiova': 138},\n",
    "    'Fagaras': {'Bucharest': 211},\n",
    "    'Bucharest': {'Pitesti': 101, 'Fagaras': 211, 'Giurgiu': 90, 'Urziceni': 85},\n",
    "    'Giurgiu': {'Bucharest': 90},\n",
    "    'Urziceni': {'Hirsova': 98, 'Vaslui': 142, 'Bucharest': 85},\n",
    "    'Hirsova': {'Eforie': 86},\n",
    "    'Eforie': {'Hirsova': 86},\n",
    "    'Vaslui': {'Iasi': 92, 'Urziceni': 142},\n",
    "    'Iasi': {'Neamt': 87, 'Vaslui': 92},\n",
    "    'Neamt': {'Iasi': 87},\n",
    "}\n",
    "path = uniform_cost_search('Arad', 'Bucharest', graph)\n",
    "print(path)\n"
   ]
  }
 ],
 "metadata": {
  "kernelspec": {
   "display_name": "venv",
   "language": "python",
   "name": "python3"
  },
  "language_info": {
   "codemirror_mode": {
    "name": "ipython",
    "version": 3
   },
   "file_extension": ".py",
   "mimetype": "text/x-python",
   "name": "python",
   "nbconvert_exporter": "python",
   "pygments_lexer": "ipython3",
   "version": "3.10.7"
  },
  "orig_nbformat": 4
 },
 "nbformat": 4,
 "nbformat_minor": 2
}
