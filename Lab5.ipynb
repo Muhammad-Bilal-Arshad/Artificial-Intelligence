{
 "cells": [
  {
   "attachments": {},
   "cell_type": "markdown",
   "metadata": {},
   "source": [
    "ARAD TO BUCAREST USING ITERATIVE DEEPENING SEARCH"
   ]
  },
  {
   "cell_type": "code",
   "execution_count": 2,
   "metadata": {},
   "outputs": [
    {
     "ename": "NameError",
     "evalue": "name 'iterative_deepening_rec' is not defined",
     "output_type": "error",
     "traceback": [
      "\u001b[1;31m---------------------------------------------------------------------------\u001b[0m",
      "\u001b[1;31mNameError\u001b[0m                                 Traceback (most recent call last)",
      "Cell \u001b[1;32mIn[2], line 60\u001b[0m\n\u001b[0;32m     31\u001b[0m   \u001b[39mreturn\u001b[39;00m \u001b[39mNone\u001b[39;00m, bottom_reached\n\u001b[0;32m     32\u001b[0m start \u001b[39m=\u001b[39m {\u001b[39m\"\u001b[39m\u001b[39mvalue\u001b[39m\u001b[39m\"\u001b[39m: \u001b[39m'\u001b[39m\u001b[39mArad\u001b[39m\u001b[39m'\u001b[39m,\u001b[39m\"\u001b[39m\u001b[39mchildren\u001b[39m\u001b[39m\"\u001b[39m : [\n\u001b[0;32m     33\u001b[0m {\u001b[39m\"\u001b[39m\u001b[39mvalue\u001b[39m\u001b[39m\"\u001b[39m : \u001b[39m'\u001b[39m\u001b[39mZerind\u001b[39m\u001b[39m'\u001b[39m, \u001b[39m\"\u001b[39m\u001b[39mchildren\u001b[39m\u001b[39m\"\u001b[39m:[\n\u001b[0;32m     34\u001b[0m {\u001b[39m\"\u001b[39m\u001b[39mvalue\u001b[39m\u001b[39m\"\u001b[39m : \u001b[39m'\u001b[39m\u001b[39mOradea\u001b[39m\u001b[39m'\u001b[39m, \u001b[39m\"\u001b[39m\u001b[39mchildren\u001b[39m\u001b[39m\"\u001b[39m:\n\u001b[1;32m   (...)\u001b[0m\n\u001b[0;32m     58\u001b[0m ]\n\u001b[0;32m     59\u001b[0m }\n\u001b[1;32m---> 60\u001b[0m i \u001b[39m=\u001b[39m iterative_deepening(start,\u001b[39m'\u001b[39;49m\u001b[39mBucharest\u001b[39;49m\u001b[39m'\u001b[39;49m)\n\u001b[0;32m     61\u001b[0m \u001b[39mif\u001b[39;00m i \u001b[39mis\u001b[39;00m \u001b[39mnot\u001b[39;00m \u001b[39mNone\u001b[39;00m:\n\u001b[0;32m     62\u001b[0m   \u001b[39mprint\u001b[39m(i[\u001b[39m\"\u001b[39m\u001b[39mvalue\u001b[39m\u001b[39m\"\u001b[39m])\n",
      "Cell \u001b[1;32mIn[2], line 5\u001b[0m, in \u001b[0;36miterative_deepening\u001b[1;34m(start, target)\u001b[0m\n\u001b[0;32m      3\u001b[0m bottom_reached \u001b[39m=\u001b[39m \u001b[39mFalse\u001b[39;00m \n\u001b[0;32m      4\u001b[0m \u001b[39mwhile\u001b[39;00m \u001b[39mnot\u001b[39;00m bottom_reached:\n\u001b[1;32m----> 5\u001b[0m   result, bottom_reached \u001b[39m=\u001b[39m iterative_deepening_rec(start, target, \u001b[39m0\u001b[39m, depth)\n\u001b[0;32m      6\u001b[0m   \u001b[39mif\u001b[39;00m result \u001b[39mis\u001b[39;00m \u001b[39mnot\u001b[39;00m \u001b[39mNone\u001b[39;00m:\n\u001b[0;32m      7\u001b[0m     \u001b[39mreturn\u001b[39;00m result\n",
      "\u001b[1;31mNameError\u001b[0m: name 'iterative_deepening_rec' is not defined"
     ]
    }
   ],
   "source": [
    "def iterative_deepening(start, target):\n",
    "  depth = 1\n",
    "  bottom_reached = False \n",
    "  while not bottom_reached:\n",
    "    result, bottom_reached = iterative_deepening_rec(start, target, 0, depth)\n",
    "    if result is not None:\n",
    "      return result\n",
    "    depth *= 2\n",
    "    print(\"Increasing depth to \" + str(depth))\n",
    "  return None\n",
    "def iterative_deepening_rec(node, target, current_depth, max_depth):\n",
    "  print(\"Visiting Node \" + str(node[\"value\"]))\n",
    "  if node[\"value\"] == target:\n",
    "    print(\"Found the node we're looking for!\")\n",
    "    return node, True\n",
    "  if current_depth == max_depth:\n",
    "    print(\"Current maximum depth reached, returning...\")\n",
    "    if len(node[\"children\"]) > 0:\n",
    "      return None, False\n",
    "    else:\n",
    "      return None, True\n",
    "\n",
    "  bottom_reached = True\n",
    "  for i in range(len(node[\"children\"])):\n",
    "    result, bottom_reached_rec = iterative_deepening_rec(node[\"children\"][i], target, current_depth + 1,max_depth)\n",
    "    if result is not None:\n",
    "\n",
    "      return result, True\n",
    "    bottom_reached = bottom_reached and bottom_reached_rec\n",
    "\n",
    "  return None, bottom_reached\n",
    "start = {\"value\": 'Arad',\"children\" : [\n",
    "{\"value\" : 'Zerind', \"children\":[\n",
    "{\"value\" : 'Oradea', \"children\":\n",
    "[]}\n",
    "]},\n",
    "{\"value\" : 'Sibui', \"children\":\n",
    "[{\"value\": 'Fagarus', \"children\": [\n",
    "{\"value\": 'Bucharest', \"children\": [\n",
    "{\"value\": 'Giurgiu', \"children\": []},\n",
    "{\"value\": 'Urziceni', \"children\": [\n",
    "{\"value\": 'Hirsova', \"children\": [\n",
    "{\"value\": 'Eforie', \"children\": []}]},\n",
    "{\"value\": 'Vaslui', \"children\": [\n",
    "{\"value\": 'Iasi', \"children\": [\n",
    "{\"value\": 'Neamt', \"children\": []}]}]}\n",
    "]}\n",
    "]}]},\n",
    "{\"value\": 'Rimnicu Vilcea', \"children\": [\n",
    "{\"value\": 'Pitesti', \"children\": []}]},\n",
    "{\"value\": 'Fagarus', \"children\": []}]},\n",
    "{\"value\" : 'Timisoara', \"children\":[\n",
    "{\"value\" : 'Lugoj', \"children\":\n",
    "[{\"value\" : 'Mehadia', \"children\":[\n",
    "{\"value\": 'Derobeta', \"children\": [\n",
    "{\"value\": 'Craiova', \"children\": []}]}]}]}\n",
    "]}\n",
    "]\n",
    "}\n",
    "i = iterative_deepening(start,'Bucharest')\n",
    "if i is not None:\n",
    "  print(i[\"value\"])\n",
    "else:\n",
    "  print(\"Not Found\")"
   ]
  },
  {
   "attachments": {},
   "cell_type": "markdown",
   "metadata": {},
   "source": [
    "BOGGLE BOARD"
   ]
  },
  {
   "cell_type": "code",
   "execution_count": 1,
   "metadata": {},
   "outputs": [
    {
     "name": "stdout",
     "output_type": "stream",
     "text": [
      "{'STONED', 'NOTE', 'SAND'}\n"
     ]
    }
   ],
   "source": [
    "\n",
    "row = [-1, -1, -1, 0, 1, 0, 1, 1]\n",
    "col = [-1, 1, 0, -1, -1, 1, 0, 1]\n",
    "def isSafe(x, y, processed):\n",
    "    return (0 <= x < len(processed)) and (0 <= y < len(processed[0]))\\\n",
    "        and not processed[x][y]\n",
    "\n",
    "def searchBoggle(board, words, result, processed, i, j, path=''):\n",
    "    processed[i][j] = True\n",
    "\n",
    "    path += board[i][j]\n",
    "\n",
    "    if path in words:\n",
    "        result.add(path)\n",
    "\n",
    "    for k in range(len(row)):\n",
    "        if isSafe(i + row[k], j + col[k], processed):\n",
    "            searchBoggle(board, words, result, processed, i + row[k], j + col[k], path)\n",
    "    processed[i][j] = False\n",
    " \n",
    " \n",
    "def searchInBoggle(board, words):\n",
    " \n",
    "    result = set()\n",
    "\n",
    "    if not board or not len(board):\n",
    "        return\n",
    "\n",
    "    (M, N) = (len(board), len(board[0]))\n",
    "\n",
    "    processed = [[False for x in range(N)] for y in range(M)]\n",
    "\n",
    "    for i in range(M):\n",
    "        for j in range(N):\n",
    "            searchBoggle(board, words, result, processed, i, j)\n",
    " \n",
    "    return result\n",
    " \n",
    " \n",
    "if __name__ == '__main__':\n",
    " \n",
    "    board = [[\"M\", \"S\", \"E\", \"F\"],\n",
    "[\"R\", \"A\", \"T\", \"D\"],\n",
    "[\"L\", \"O\", \"N\", \"E\"],\n",
    "[\"K\", \"A\", \"F\", \"B\"]]\n",
    " \n",
    "    words = ['START', 'NOTE', 'SAND', 'STONED']\n",
    " \n",
    "    validWords = searchInBoggle(board, words)\n",
    "    print(validWords)"
   ]
  }
 ],
 "metadata": {
  "kernelspec": {
   "display_name": "venv",
   "language": "python",
   "name": "python3"
  },
  "language_info": {
   "codemirror_mode": {
    "name": "ipython",
    "version": 3
   },
   "file_extension": ".py",
   "mimetype": "text/x-python",
   "name": "python",
   "nbconvert_exporter": "python",
   "pygments_lexer": "ipython3",
   "version": "3.10.7"
  },
  "orig_nbformat": 4
 },
 "nbformat": 4,
 "nbformat_minor": 2
}
