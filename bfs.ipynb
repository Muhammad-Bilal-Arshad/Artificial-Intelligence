{
 "cells": [
  {
   "attachments": {},
   "cell_type": "markdown",
   "metadata": {},
   "source": [
    "BREADTH FIRST SEARCH"
   ]
  },
  {
   "attachments": {},
   "cell_type": "markdown",
   "metadata": {},
   "source": [
    "TASK1: ARAD TO BUCHAREST"
   ]
  },
  {
   "cell_type": "code",
   "execution_count": 1,
   "metadata": {},
   "outputs": [
    {
     "name": "stdout",
     "output_type": "stream",
     "text": [
      "['Arad', 'Sibiu', 'Fagaras', 'Bucharest']\n"
     ]
    }
   ],
   "source": [
    "from queue import Queue;\n",
    "graph = {\n",
    "    'Arad': ['Zerind', 'Sibiu', 'Timisoara'],\n",
    "    'Zerind': ['Arad', 'Oradea'],\n",
    "    'Oradea': ['Zerind', 'Sibiu'],\n",
    "    'Sibiu': ['Arad', 'Oradea', 'Fagaras', 'Rimnicu Vilcea'],\n",
    "    'Timisoara': ['Arad', 'Lugoj'],\n",
    "    'Lugoj': ['Timisoara', 'Mehadia'],\n",
    "    'Mehadia': ['Lugoj', 'Drobeta'],\n",
    "    'Drobeta': ['Mehadia', 'Craiova'],\n",
    "    'Craiova': ['Drobeta', 'Rimnicu Vilcea', 'Pitesti'],\n",
    "    'Rimnicu Vilcea': ['Sibiu', 'Craiova', 'Pitesti'],\n",
    "    'Fagaras': ['Sibiu', 'Bucharest'],\n",
    "    'Pitesti': ['Rimnicu Vilcea', 'Craiova', 'Bucharest'],\n",
    "    'Bucharest': ['Fagaras', 'Pitesti', 'Giurgiu', 'Urziceni'],\n",
    "    'Giurgiu': ['Bucharest'],\n",
    "    'Urziceni': ['Bucharest', 'Hirsova', 'Vaslui'],\n",
    "    'Hirsova': ['Urziceni', 'Eforie'],\n",
    "    'Eforie': ['Hirsova'],\n",
    "    'Vaslui': ['Urziceni', 'Iasi'],\n",
    "    'Iasi': ['Vaslui', 'Neamt'],\n",
    "    'Neamt': ['Iasi']\n",
    "}\n",
    "\n",
    "start_node = 'Arad'\n",
    "goal_node = 'Bucharest'\n",
    "\n",
    "def bfs(graph, start, goal):\n",
    "    frontier = Queue() \n",
    "    frontier.put(start) \n",
    "    explored = set()\n",
    "    explored.add(start) \n",
    "    parent = {start: None} \n",
    "    while not frontier.empty():\n",
    "        current_node = frontier.get() \n",
    "        if current_node == goal:\n",
    "            path = [current_node]\n",
    "            while parent[current_node] is not None:\n",
    "                current_node = parent[current_node]\n",
    "                path.insert(0, current_node)\n",
    "            return path\n",
    "\n",
    "        for neighbor in graph[current_node]:\n",
    "            if neighbor not in explored:\n",
    "                frontier.put(neighbor) \n",
    "                explored.add(neighbor)\n",
    "                parent[neighbor] = current_node \n",
    "\n",
    "\n",
    "    return None\n",
    "\n",
    "path = bfs(graph, start_node, goal_node)\n",
    "print(path)"
   ]
  }
 ],
 "metadata": {
  "kernelspec": {
   "display_name": "venv",
   "language": "python",
   "name": "python3"
  },
  "language_info": {
   "codemirror_mode": {
    "name": "ipython",
    "version": 3
   },
   "file_extension": ".py",
   "mimetype": "text/x-python",
   "name": "python",
   "nbconvert_exporter": "python",
   "pygments_lexer": "ipython3",
   "version": "3.10.7"
  },
  "orig_nbformat": 4
 },
 "nbformat": 4,
 "nbformat_minor": 2
}
